{
 "cells": [
  {
   "cell_type": "code",
   "execution_count": 1,
   "metadata": {},
   "outputs": [
    {
     "name": "stdout",
     "output_type": "stream",
     "text": [
      "40320\n"
     ]
    }
   ],
   "source": [
    "#calculates factorial of a positive integar\n",
    "def factorial(n):\n",
    "    if n==0:\n",
    "        return 1\n",
    "    return n*factorial(n-1)\n",
    "\n",
    "print (factorial(8))"
   ]
  },
  {
   "cell_type": "markdown",
   "metadata": {},
   "source": [
    "# Recursion\n",
    "\n",
    "#Terminates when a base case is reached.\n",
    "#Each recursive call requires extra space on the stack frame(memory).\n",
    "#If we get infinite recursion, the program may run out of memory and gives stack overflow.\n",
    "#Solutions to some problems are easier to formulate recursively.\n",
    "\n",
    "Iteration:\n",
    "\n",
    "#Termination when a condition is proven to be false.\n",
    "\n",
    "#Each iteration does not require extra space.\n",
    "\n",
    "#An infinite loop could loop forever since there is no extra memory being created."
   ]
  },
  {
   "cell_type": "code",
   "execution_count": 3,
   "metadata": {},
   "outputs": [
    {
     "name": "stdout",
     "output_type": "stream",
     "text": [
      "Move disk 1 from peg 1 to 2\n",
      "Move disk 2 from peg 1 to 3\n",
      "Move disk 1 from peg 2 to 3\n",
      "Move disk 3 from peg 1 to 2\n",
      "Move disk 1 from peg 3 to 1\n",
      "Move disk 2 from peg 3 to 2\n",
      "Move disk 1 from peg 1 to 2\n",
      "Move disk 4 from peg 1 to 3\n",
      "Move disk 1 from peg 2 to 3\n",
      "Move disk 2 from peg 2 to 1\n",
      "Move disk 1 from peg 3 to 1\n",
      "Move disk 3 from peg 2 to 3\n",
      "Move disk 1 from peg 1 to 2\n",
      "Move disk 2 from peg 1 to 3\n",
      "Move disk 1 from peg 2 to 3\n"
     ]
    }
   ],
   "source": [
    "#tower of Hanoi\n",
    "def towerOfHanoi(numberOfDisks, startPeg=1, endPeg=3):\n",
    "    if numberOfDisks:\n",
    "        towerOfHanoi(numberOfDisks-1,startPeg,6-startPeg-endPeg)\n",
    "        print (\"Move disk %d from peg %d to %d\" %(numberOfDisks,startPeg,endPeg))\n",
    "        towerOfHanoi(numberOfDisks-1,6-startPeg-endPeg,endPeg)\n",
    "\n",
    "towerOfHanoi(numberOfDisks=4)        "
   ]
  },
  {
   "cell_type": "code",
   "execution_count": 6,
   "metadata": {},
   "outputs": [
    {
     "name": "stdout",
     "output_type": "stream",
     "text": [
      "True\n"
     ]
    }
   ],
   "source": [
    "#Given an array, check whether the array is in sorted order with recursion.\n",
    "\n",
    "def isSorted(lst, key=lambda x: x):\n",
    "    for i, el in enumerate(lst[1:]):\n",
    "        if key(el) < key(lst[i]): # i is the index of the previous element\n",
    "            return False\n",
    "    return True\n",
    "\n",
    "\n",
    "def isArrayInSortedOrder(A):\n",
    "    #base case\n",
    "    if len(A) ==1:\n",
    "        return True\n",
    "    return A[0] <= A[1] and isSorted(A[1:])\n",
    "\n",
    "A = [127,222,246,277,320,454,3232]\n",
    "print(isArrayInSortedOrder(A))\n",
    "\n"
   ]
  },
  {
   "cell_type": "code",
   "execution_count": 11,
   "metadata": {},
   "outputs": [
    {
     "name": "stdout",
     "output_type": "stream",
     "text": [
      "['0000', '0001', '0010', '0011', '0100', '0101', '0110', '0111', '1000', '1001', '1010', '1011', '1100', '1101', '1110', '1111']\n"
     ]
    }
   ],
   "source": [
    "# Generate all the binary strings with n bits. Assume A[0..n-1] is an array of size n.\n",
    "\n",
    "def append_at_front(x, L):\n",
    "    return [x + element for element in    L]\n",
    "\n",
    "def bit_strings(n):\n",
    "    if n == 0: return []\n",
    "    if n == 1: return [\"0\", \"1\"]\n",
    "    else:\n",
    "        return (append_at_front(\"0\", bit_strings(n - 1)) + append_at_front(\"1\", bit_strings(n - 1)))\n",
    "                \n",
    "print (bit_strings(4)) \n"
   ]
  },
  {
   "cell_type": "code",
   "execution_count": 12,
   "metadata": {},
   "outputs": [
    {
     "name": "stdout",
     "output_type": "stream",
     "text": [
      "['0000', '0001', '0010', '0011', '0100', '0101', '0110', '0111', '1000', '1001', '1010', '1011', '1100', '1101', '1110', '1111']\n"
     ]
    }
   ],
   "source": [
    "# Alternative approach for generating all the binary strings with n bits. Assume A[0..n-1] is an array of size n.\n",
    "\n",
    "def bit_strings2(n):\n",
    "    if n == 0: return []\n",
    "    if n == 1: return [\"0\", \"1\"]\n",
    "    return [ digit + bitstring for digit in bit_strings2(1)\n",
    "\t                         for bitstring in bit_strings2(n - 1)]\n",
    "print (bit_strings2(4)) "
   ]
  },
  {
   "cell_type": "code",
   "execution_count": 14,
   "metadata": {},
   "outputs": [
    {
     "name": "stdout",
     "output_type": "stream",
     "text": [
      "['0000', '0001', '0002', '0010', '0011', '0012', '0020', '0021', '0022', '0100', '0101', '0102', '0110', '0111', '0112', '0120', '0121', '0122', '0200', '0201', '0202', '0210', '0211', '0212', '0220', '0221', '0222', '1000', '1001', '1002', '1010', '1011', '1012', '1020', '1021', '1022', '1100', '1101', '1102', '1110', '1111', '1112', '1120', '1121', '1122', '1200', '1201', '1202', '1210', '1211', '1212', '1220', '1221', '1222', '2000', '2001', '2002', '2010', '2011', '2012', '2020', '2021', '2022', '2100', '2101', '2102', '2110', '2111', '2112', '2120', '2121', '2122', '2200', '2201', '2202', '2210', '2211', '2212', '2220', '2221', '2222']\n"
     ]
    }
   ],
   "source": [
    "# Generate all the strings of length n drawn from 0..k-1\n",
    "\n",
    "\n",
    "def range_to_list(k):\n",
    "\tresult = []\n",
    "\tfor i in range(0, k):\n",
    "\t\tresult.append(str(i))\n",
    "\treturn result\n",
    "\t\n",
    "def base_k_strings(n, k):\n",
    "\tif n == 0: return []\n",
    "\tif n == 1: return range_to_list(k)\n",
    "\treturn [ digit + bitstring for digit in base_k_strings(1, k) for bitstring in base_k_strings(n - 1, k)]\n",
    "print (base_k_strings(4, 3)) "
   ]
  },
  {
   "cell_type": "code",
   "execution_count": null,
   "metadata": {},
   "outputs": [],
   "source": [
    "\n",
    "\n"
   ]
  },
  {
   "cell_type": "code",
   "execution_count": null,
   "metadata": {},
   "outputs": [],
   "source": []
  }
 ],
 "metadata": {
  "kernelspec": {
   "display_name": "Python 3",
   "language": "python",
   "name": "python3"
  },
  "language_info": {
   "codemirror_mode": {
    "name": "ipython",
    "version": 3
   },
   "file_extension": ".py",
   "mimetype": "text/x-python",
   "name": "python",
   "nbconvert_exporter": "python",
   "pygments_lexer": "ipython3",
   "version": "3.6.4"
  }
 },
 "nbformat": 4,
 "nbformat_minor": 2
}
